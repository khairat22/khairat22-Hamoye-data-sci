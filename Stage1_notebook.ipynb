{
  "nbformat": 4,
  "nbformat_minor": 0,
  "metadata": {
    "colab": {
      "name": "Stage1_notebook",
      "provenance": [],
      "authorship_tag": "ABX9TyN7qjhYjwrqHhZTem52miyS",
      "include_colab_link": true
    },
    "kernelspec": {
      "name": "python3",
      "display_name": "Python 3"
    }
  },
  "cells": [
    {
      "cell_type": "markdown",
      "metadata": {
        "id": "view-in-github",
        "colab_type": "text"
      },
      "source": [
        "<a href=\"https://colab.research.google.com/github/khairat22/khairat22-Hamoye-data-sci/blob/master/Stage1_notebook.ipynb\" target=\"_parent\"><img src=\"https://colab.research.google.com/assets/colab-badge.svg\" alt=\"Open In Colab\"/></a>"
      ]
    },
    {
      "cell_type": "code",
      "metadata": {
        "id": "PEaz_8368wwZ",
        "colab_type": "code",
        "colab": {}
      },
      "source": [
        "import numpy as np\n",
        "import pandas as pd\n",
        "#import plotting library\n",
        "import matplotlib.pyplot as plt\n",
        "import seaborn as sns"
      ],
      "execution_count": 40,
      "outputs": []
    },
    {
      "cell_type": "code",
      "metadata": {
        "id": "MG9xQVkQ2oqe",
        "colab_type": "code",
        "colab": {
          "base_uri": "https://localhost:8080/",
          "height": 34
        },
        "outputId": "890ca2d8-198f-4986-c44b-a15e09be1829"
      },
      "source": [
        "#q1\n",
        "#both appaend and extend return none\n",
        "A = [1,2,3,4,5,6]\n",
        "B = [13,21,34]\n",
        "# print(A+B) #should be the answer\n",
        "A_B=  A.append(B)\n",
        "print(A_B)\n",
        "# \n"
      ],
      "execution_count": 96,
      "outputs": [
        {
          "output_type": "stream",
          "text": [
            "None\n"
          ],
          "name": "stdout"
        }
      ]
    },
    {
      "cell_type": "code",
      "metadata": {
        "id": "rz-WTy9D787j",
        "colab_type": "code",
        "colab": {
          "base_uri": "https://localhost:8080/",
          "height": 68
        },
        "outputId": "fc1cfe5b-e3fe-4eac-a85c-82f8cf9cd7a6"
      },
      "source": [
        "#q2\n",
        "np.identity(3, dtype=int)"
      ],
      "execution_count": 42,
      "outputs": [
        {
          "output_type": "execute_result",
          "data": {
            "text/plain": [
              "array([[1, 0, 0],\n",
              "       [0, 1, 0],\n",
              "       [0, 0, 1]])"
            ]
          },
          "metadata": {
            "tags": []
          },
          "execution_count": 42
        }
      ]
    },
    {
      "cell_type": "code",
      "metadata": {
        "id": "IgaWsD4A8uYn",
        "colab_type": "code",
        "colab": {
          "base_uri": "https://localhost:8080/",
          "height": 255
        },
        "outputId": "9cce190c-2eb2-4c1c-d4f9-3a7766aedab9"
      },
      "source": [
        "#Read file and get summary \n",
        "url = 'https://raw.githubusercontent.com/WalePhenomenon/climate_change/master/fuel_ferc1.csv?raw=true'\n",
        "fuel_data = pd.read_csv(url, error_bad_lines=False)\n",
        "print(fuel_data)\n",
        "# print(fuel_data['fuel_unit'].dropna(), '\\n')\n",
        "#180 columns are NaN in the fuel_unit column\n",
        "# fuel_data.describe(include = 'all') \n",
        "\n"
      ],
      "execution_count": 43,
      "outputs": [
        {
          "output_type": "stream",
          "text": [
            "                     record_id  ...  fuel_cost_per_mmbtu\n",
            "0        f1_fuel_1994_12_1_0_7  ...                1.121\n",
            "1       f1_fuel_1994_12_1_0_10  ...                1.120\n",
            "2        f1_fuel_1994_12_2_0_1  ...                1.650\n",
            "3        f1_fuel_1994_12_2_0_7  ...                1.970\n",
            "4       f1_fuel_1994_12_2_0_10  ...                2.570\n",
            "...                        ...  ...                  ...\n",
            "29518  f1_fuel_2018_12_12_0_13  ...                9.030\n",
            "29519   f1_fuel_2018_12_12_1_1  ...                6.950\n",
            "29520  f1_fuel_2018_12_12_1_10  ...                8.990\n",
            "29521  f1_fuel_2018_12_12_1_13  ...                1.110\n",
            "29522  f1_fuel_2018_12_12_1_14  ...               11.680\n",
            "\n",
            "[29523 rows x 11 columns]\n"
          ],
          "name": "stdout"
        }
      ]
    },
    {
      "cell_type": "code",
      "metadata": {
        "id": "bsqpPbC39ZAb",
        "colab_type": "code",
        "colab": {
          "base_uri": "https://localhost:8080/",
          "height": 153
        },
        "outputId": "db2b0a3a-e47e-4e6c-edb2-9d64e9f53004"
      },
      "source": [
        "#q3\n",
        "fuel_data.groupby('fuel_type_code_pudl').mean()['fuel_cost_per_unit_burned']"
      ],
      "execution_count": 44,
      "outputs": [
        {
          "output_type": "execute_result",
          "data": {
            "text/plain": [
              "fuel_type_code_pudl\n",
              "coal         67.421830\n",
              "gas          13.659397\n",
              "nuclear    4955.157002\n",
              "oil         168.877086\n",
              "other        18.253856\n",
              "waste        19.518122\n",
              "Name: fuel_cost_per_unit_burned, dtype: float64"
            ]
          },
          "metadata": {
            "tags": []
          },
          "execution_count": 44
        }
      ]
    },
    {
      "cell_type": "code",
      "metadata": {
        "id": "jBuI8_1Q9hye",
        "colab_type": "code",
        "colab": {
          "base_uri": "https://localhost:8080/",
          "height": 170
        },
        "outputId": "92ebdd48-3c9b-4e32-982a-9ad909e33f76"
      },
      "source": [
        "#q4\n",
        "fuel_data.describe()['fuel_mmbtu_per_unit']"
      ],
      "execution_count": 45,
      "outputs": [
        {
          "output_type": "execute_result",
          "data": {
            "text/plain": [
              "count    29523.000000\n",
              "mean         8.492111\n",
              "std         10.600220\n",
              "min          0.000001\n",
              "25%          1.024000\n",
              "50%          5.762694\n",
              "75%         17.006000\n",
              "max        341.260000\n",
              "Name: fuel_mmbtu_per_unit, dtype: float64"
            ]
          },
          "metadata": {
            "tags": []
          },
          "execution_count": 45
        }
      ]
    },
    {
      "cell_type": "code",
      "metadata": {
        "id": "fLBkBYFM-1Xt",
        "colab_type": "code",
        "colab": {
          "base_uri": "https://localhost:8080/",
          "height": 34
        },
        "outputId": "eb4cccf6-200e-4289-98db-3687edb9ab45"
      },
      "source": [
        "#q5 skewness\n",
        "fuel_data.skew()['fuel_qty_burned']"
      ],
      "execution_count": 46,
      "outputs": [
        {
          "output_type": "execute_result",
          "data": {
            "text/plain": [
              "15.851495469109503"
            ]
          },
          "metadata": {
            "tags": []
          },
          "execution_count": 46
        }
      ]
    },
    {
      "cell_type": "code",
      "metadata": {
        "id": "II9lNdWgAB-r",
        "colab_type": "code",
        "colab": {
          "base_uri": "https://localhost:8080/",
          "height": 34
        },
        "outputId": "8b21b393-392c-4138-cb35-5043f0220156"
      },
      "source": [
        "#q5 kurtosis\n",
        "fuel_data.kurt()['fuel_qty_burned']"
      ],
      "execution_count": 47,
      "outputs": [
        {
          "output_type": "execute_result",
          "data": {
            "text/plain": [
              "651.3694501337732"
            ]
          },
          "metadata": {
            "tags": []
          },
          "execution_count": 47
        }
      ]
    },
    {
      "cell_type": "code",
      "metadata": {
        "id": "TvL371CB0MEp",
        "colab_type": "code",
        "colab": {
          "base_uri": "https://localhost:8080/",
          "height": 34
        },
        "outputId": "eccb1c1d-1599-4a79-99a9-dcef14d41d9a"
      },
      "source": [
        "#q6\n",
        "#get number of elements that are null in each column\n",
        "fuel_data.isnull().sum()\n",
        "print(180*100/29523)\n",
        "#0.610%"
      ],
      "execution_count": 103,
      "outputs": [
        {
          "output_type": "stream",
          "text": [
            "0.6096941367747181\n"
          ],
          "name": "stdout"
        }
      ]
    },
    {
      "cell_type": "code",
      "metadata": {
        "id": "vI4_SiohBlF1",
        "colab_type": "code",
        "colab": {}
      },
      "source": [
        "#q6 Percent\n"
      ],
      "execution_count": 49,
      "outputs": []
    },
    {
      "cell_type": "code",
      "metadata": {
        "id": "eJapErIwBrby",
        "colab_type": "code",
        "colab": {
          "base_uri": "https://localhost:8080/",
          "height": 204
        },
        "outputId": "5e69161b-284e-460b-b623-f31b38a88972"
      },
      "source": [
        "#q7\n",
        "fuel_data.groupby('fuel_unit')['fuel_unit'].count()\n",
        "# fuel_data[['fuel_unit']] = fuel_data[['fuel_unit']].fillna(value = 'mcf')\n",
        "# fuel_data.isnull().sum()\n"
      ],
      "execution_count": 50,
      "outputs": [
        {
          "output_type": "execute_result",
          "data": {
            "text/plain": [
              "fuel_unit\n",
              "bbl        7998\n",
              "gal          84\n",
              "gramsU      464\n",
              "kgU         110\n",
              "mcf       11354\n",
              "mmbtu       180\n",
              "mwdth        95\n",
              "mwhth       100\n",
              "ton        8958\n",
              "Name: fuel_unit, dtype: int64"
            ]
          },
          "metadata": {
            "tags": []
          },
          "execution_count": 50
        }
      ]
    },
    {
      "cell_type": "code",
      "metadata": {
        "colab_type": "code",
        "id": "SakP6jCXDqcJ",
        "colab": {
          "base_uri": "https://localhost:8080/",
          "height": 34
        },
        "outputId": "e2554bb3-2c48-41c1-a224-40094e0e093c"
      },
      "source": [
        "#q8\n",
        "fuel_data.groupby('report_year').mean()['fuel_cost_per_unit_delivered'].max()"
      ],
      "execution_count": 78,
      "outputs": [
        {
          "output_type": "execute_result",
          "data": {
            "text/plain": [
              "11140.19723948813"
            ]
          },
          "metadata": {
            "tags": []
          },
          "execution_count": 78
        }
      ]
    },
    {
      "cell_type": "code",
      "metadata": {
        "id": "SmqKJJl-Dy0F",
        "colab_type": "code",
        "colab": {
          "base_uri": "https://localhost:8080/",
          "height": 153
        },
        "outputId": "096622c1-0a6a-41ab-ef6a-a176cf9ded32"
      },
      "source": [
        "#q9\n",
        "fuel_data.corr()['fuel_cost_per_unit_burned']"
      ],
      "execution_count": 76,
      "outputs": [
        {
          "output_type": "execute_result",
          "data": {
            "text/plain": [
              "utility_id_ferc1               -0.037863\n",
              "report_year                     0.013599\n",
              "fuel_qty_burned                -0.018535\n",
              "fuel_mmbtu_per_unit            -0.010034\n",
              "fuel_cost_per_unit_burned       1.000000\n",
              "fuel_cost_per_unit_delivered    0.011007\n",
              "fuel_cost_per_mmbtu            -0.000437\n",
              "Name: fuel_cost_per_unit_burned, dtype: float64"
            ]
          },
          "metadata": {
            "tags": []
          },
          "execution_count": 76
        }
      ]
    },
    {
      "cell_type": "code",
      "metadata": {
        "id": "Suv4VjpREv2N",
        "colab_type": "code",
        "colab": {
          "base_uri": "https://localhost:8080/",
          "height": 255
        },
        "outputId": "f90b8ef9-8812-4a2b-c378-9d7453b64a9a"
      },
      "source": [
        "fd2 = pd.DataFrame(fuel_data, columns=['report_year','fuel_cost_per_unit_burned','fuel_type_code_pudl'])\n",
        "print(fd2)"
      ],
      "execution_count": 101,
      "outputs": [
        {
          "output_type": "stream",
          "text": [
            "       report_year  fuel_cost_per_unit_burned fuel_type_code_pudl\n",
            "0             1994                      18.59                coal\n",
            "1             1994                      18.58                coal\n",
            "2             1994                      39.72                coal\n",
            "3             1994                      47.21                coal\n",
            "4             1994                       2.77                 gas\n",
            "...            ...                        ...                 ...\n",
            "29518         2018                       4.78                 gas\n",
            "29519         2018                       3.65                 gas\n",
            "29520         2018                       4.77                 gas\n",
            "29521         2018                       3.06                coal\n",
            "29522         2018                       0.00                 gas\n",
            "\n",
            "[29523 rows x 3 columns]\n"
          ],
          "name": "stdout"
        }
      ]
    },
    {
      "cell_type": "code",
      "metadata": {
        "id": "ovDR17kaGMYn",
        "colab_type": "code",
        "colab": {}
      },
      "source": [
        ""
      ],
      "execution_count": null,
      "outputs": []
    }
  ]
}